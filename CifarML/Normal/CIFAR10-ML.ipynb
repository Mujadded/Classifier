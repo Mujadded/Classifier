{
 "cells": [
  {
   "cell_type": "markdown",
   "metadata": {},
   "source": [
    "# Using Differnt Machine Learning Classifiers on CIFAR-10 Dataset"
   ]
  },
  {
   "cell_type": "markdown",
   "metadata": {},
   "source": [
    "Importing Libraries"
   ]
  },
  {
   "cell_type": "code",
   "execution_count": null,
   "metadata": {
    "collapsed": false
   },
   "outputs": [],
   "source": [
    "from os import listdir\n",
    "from os.path import isfile,join\n",
    "import numpy as np\n",
    "import cv2\n",
    "from skimage.feature import hog as HOG\n",
    "\n",
    "#Importing Models\n",
    "from sklearn.linear_model import LogisticRegression \n",
    "from sklearn.neighbors import KNeighborsClassifier\n",
    "from sklearn.grid_search import GridSearchCV\n",
    "from sklearn.neural_network import MLPClassifier\n",
    "from sklearn.svm import SVC,NuSVC\n",
    "from sklearn.tree import DecisionTreeClassifier\n",
    "from sklearn.ensemble import RandomForestClassifier\n",
    "from MLClassifier import *"
   ]
  },
  {
   "cell_type": "markdown",
   "metadata": {},
   "source": [
    "Function for Reading Images and Extracting HOG features"
   ]
  },
  {
   "cell_type": "code",
   "execution_count": null,
   "metadata": {
    "collapsed": true
   },
   "outputs": [],
   "source": [
    "def ReadImages(ListName,FolderName,Label):\n",
    "    global NumberList\n",
    "    global responseData\n",
    "    global trainData\n",
    "    global hog\n",
    "    global cv2\n",
    "    global imutils\n",
    "    global winSize\n",
    "    #ListName= ListName[0:100]\n",
    "    for image in ListName:\n",
    "        img = cv2.imread(join(FolderName,image))\n",
    "        img = cv2.resize(img,(50,50))\n",
    "        NumberList.append(img)    \n",
    "        feature = HOG(cv2.cvtColor(img,cv2.COLOR_RGB2GRAY))\n",
    "        trainData.append(feature.T)\n",
    "        responseData.append(Label)"
   ]
  },
  {
   "cell_type": "markdown",
   "metadata": {},
   "source": [
    "Data Preparation"
   ]
  },
  {
   "cell_type": "code",
   "execution_count": null,
   "metadata": {
    "collapsed": false
   },
   "outputs": [],
   "source": [
    "Auto = '/home/sezan92/CifarML/Normal/Automobile'\n",
    "Cat = '/home/sezan92/CifarML/Normal/Cat'\n",
    "Deer = '/home/sezan92/CifarML/Normal/Deer'\n",
    "Dog = '/home/sezan92/CifarML/Normal/Dog'\n",
    "Horse = '/home/sezan92/CifarML/Normal/Horse'\n",
    "Test ='/home/sezan92/CifarML/Normal/Test'\n",
    "trainData = []\n",
    "responseData = []\n",
    "NumberList = []\n",
    "\n",
    "AutoImages = [ f for f in listdir(Auto) if isfile(join(Auto,f)) ]\n",
    "CatImages = [ f for f in listdir(Cat) if isfile(join(Cat,f)) ]\n",
    "DogImages = [ f for f in listdir(Dog) if isfile(join(Dog,f)) ]\n",
    "DeerImages = [ f for f in listdir(Deer) if isfile(join(Deer,f)) ]\n",
    "HorseImages = [ f for f in listdir(Horse) if isfile(join(Horse,f)) ]\n",
    "TestImages = [ f for f in listdir(Test) if isfile(join(Test,f)) ]\n",
    "\n",
    "ReadImages(AutoImages,Auto,1)\n",
    "ReadImages(CatImages,Cat,2)\n",
    "ReadImages(DogImages,Dog,3)\n",
    "ReadImages(DeerImages,Deer,4)\n",
    "ReadImages(HorseImages,Horse,5)\n",
    "\n",
    "X = np.float32(trainData)\n",
    "y= np.float32(responseData)"
   ]
  },
  {
   "cell_type": "markdown",
   "metadata": {},
   "source": [
    "Classfier. SVMFlag is set to be True as SVM needs a lot amount of time for training. Please Set it to False if you don't want to"
   ]
  },
  {
   "cell_type": "code",
   "execution_count": null,
   "metadata": {
    "collapsed": false
   },
   "outputs": [],
   "source": [
    "ClassifierSelect(X,y,num_labels=5,SVMFlag=True) "
   ]
  },
  {
   "cell_type": "code",
   "execution_count": null,
   "metadata": {
    "collapsed": false,
    "scrolled": true
   },
   "outputs": [],
   "source": [
    "   "
   ]
  }
 ],
 "metadata": {
  "kernelspec": {
   "display_name": "Python 2",
   "language": "python",
   "name": "python2"
  },
  "language_info": {
   "codemirror_mode": {
    "name": "ipython",
    "version": 2
   },
   "file_extension": ".py",
   "mimetype": "text/x-python",
   "name": "python",
   "nbconvert_exporter": "python",
   "pygments_lexer": "ipython2",
   "version": "2.7.13"
  }
 },
 "nbformat": 4,
 "nbformat_minor": 2
}
