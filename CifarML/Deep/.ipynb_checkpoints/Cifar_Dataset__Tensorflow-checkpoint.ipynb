{
 "cells": [
  {
   "cell_type": "markdown",
   "metadata": {},
   "source": [
    "# Importing Libraries\n"
   ]
  },
  {
   "cell_type": "code",
   "execution_count": 5,
   "metadata": {
    "collapsed": true
   },
   "outputs": [],
   "source": [
    "from os import listdir\n",
    "from os.path import isfile,join\n",
    "import numpy as np\n",
    "import cv2\n",
    "import tensorflow as tf\n",
    "\n"
   ]
  },
  {
   "cell_type": "markdown",
   "metadata": {},
   "source": [
    "# Necessary Functions"
   ]
  },
  {
   "cell_type": "code",
   "execution_count": 6,
   "metadata": {
    "collapsed": true
   },
   "outputs": [],
   "source": [
    "def weight_variable(shape):\n",
    "  initial = tf.truncated_normal(shape, stddev=0.1)\n",
    "  return tf.Variable(initial)\n",
    "\n",
    "def bias_variable(shape):\n",
    "  initial = tf.constant(0.1, shape=shape)\n",
    "  return tf.Variable(initial)\n",
    "\n",
    "def conv2d(x, W):\n",
    "  return tf.nn.conv2d(x, W, strides=[1, 1, 1, 1], padding='SAME')\n",
    "\n",
    "def max_pool_2x2(x):\n",
    "  return tf.nn.max_pool(x, ksize=[1, 2, 2, 1],\n",
    "                        strides=[1, 2, 2, 1], padding='SAME')\n",
    "\n",
    "def ReadImages(ListName,FolderName,Label):\n",
    "    global NumberList\n",
    "    global responseData\n",
    "    global trainData\n",
    "    global hog\n",
    "    global cv2\n",
    "    global imutils\n",
    "    global winSize\n",
    "    #ListName= ListName[0:100]\n",
    "    for image in ListName:\n",
    "        img = cv2.imread(join(FolderName,image)) \n",
    "        trainData.append(img.flatten())\n",
    "        responseData.append(Label)"
   ]
  },
  {
   "cell_type": "markdown",
   "metadata": {},
   "source": [
    "# Image Locations"
   ]
  },
  {
   "cell_type": "code",
   "execution_count": 12,
   "metadata": {
    "collapsed": false
   },
   "outputs": [],
   "source": [
    "Auto = '/home/sezan92/CifarML/Deep/Automobile'\n",
    "Cat = '/home/sezan92/CifarML/Deep/Cat'\n",
    "Deer = '/home/sezan92/CifarML/Deep/deer'\n",
    "Dog = '/home/sezan92/CifarML/Deep/Dog'\n",
    "Horse = '/home/sezan92/CifarML/Deep/Horse'\n",
    "Test ='/home/sezan92/CifarML/Normal/Test'\n",
    "trainData = []\n",
    "responseData = []\n",
    "\n",
    "AutoImages = [ f for f in listdir(Auto) if isfile(join(Auto,f)) ]\n",
    "CatImages = [ f for f in listdir(Cat) if isfile(join(Cat,f)) ]\n",
    "DogImages = [ f for f in listdir(Dog) if isfile(join(Dog,f)) ]\n",
    "DeerImages = [ f for f in listdir(Deer) if isfile(join(Deer,f)) ]\n",
    "HorseImages = [ f for f in listdir(Horse) if isfile(join(Horse,f)) ]\n",
    "TestImages = [ f for f in listdir(Test) if isfile(join(Test,f)) ]\n",
    "\n",
    "ReadImages(AutoImages,Auto,1)\n",
    "ReadImages(CatImages,Cat,2)\n",
    "ReadImages(DogImages,Dog,3)\n",
    "ReadImages(DeerImages,Deer,4)\n",
    "ReadImages(HorseImages,Horse,5)"
   ]
  },
  {
   "cell_type": "markdown",
   "metadata": {},
   "source": [
    "# Preparing Data including One-Hot Encoding and Random Shuffling"
   ]
  },
  {
   "cell_type": "code",
   "execution_count": null,
   "metadata": {
    "collapsed": false
   },
   "outputs": [],
   "source": [
    "trainNp = np.float32(trainData)\n",
    "responseNp = np.float32(responseData)\n",
    "responseNpOH = np.zeros((responseNp.shape[0],responseData[-1]))       \n",
    "k=0\n",
    "#OneHot\n",
    "for i in range(responseNpOH.shape[0]):\n",
    "    np.put(responseNpOH[i],responseNp[i]-1,1)\n",
    "\n",
    "\n",
    "all_data = np.concatenate((trainNp,responseNpOH),axis=1) \n",
    "np.random.shuffle(all_data)"
   ]
  },
  {
   "cell_type": "markdown",
   "metadata": {},
   "source": [
    "# Tensorflow Stuff "
   ]
  },
  {
   "cell_type": "code",
   "execution_count": null,
   "metadata": {
    "collapsed": true
   },
   "outputs": [],
   "source": [
    "sess = tf.InteractiveSession()\n",
    "\n",
    "    \n",
    "x = tf.placeholder(tf.float32, shape=[None,3072])\n",
    "y_ = tf.placeholder(tf.float32, shape=[None, 5])    \n",
    "x_image = tf.reshape(x, [-1,32,32,3])\n",
    "W_conv1 = weight_variable([5, 5, 3, 32])\n",
    "b_conv1 = bias_variable([32])\n",
    "\n",
    "h_conv1 = tf.nn.relu(conv2d(x_image, W_conv1) + b_conv1)\n",
    "h_pool1 = max_pool_2x2(h_conv1)\n",
    "    \n",
    "W_conv2 = weight_variable([5, 5, 32, 64])\n",
    "b_conv2 = bias_variable([64])\n",
    "\n",
    "h_conv2 = tf.nn.relu(conv2d(h_pool1, W_conv2) + b_conv2)\n",
    "h_pool2 = max_pool_2x2(h_conv2)\n",
    "\n",
    "W_conv3 = weight_variable([5, 5, 64, 128])\n",
    "b_conv3 = bias_variable([128])\n",
    "\n",
    "h_conv3 = tf.nn.relu(conv2d(h_pool2, W_conv3) + b_conv3)\n",
    "h_pool3 = max_pool_2x2(h_conv3)\n",
    "\n",
    "W_fc1 = weight_variable([4*4 * 128, 3072])\n",
    "b_fc1 = bias_variable([3072])\n",
    "\n",
    "h_pool3_flat = tf.reshape(h_pool3, [-1, 4*4*128])\n",
    "h_fc1 = tf.nn.relu(tf.matmul(h_pool3_flat, W_fc1) + b_fc1)\n",
    "\n",
    "keep_prob = tf.placeholder(tf.float32)\n",
    "h_fc1_drop = tf.nn.dropout(h_fc1, keep_prob)\n",
    "\n",
    "W_fc2 = weight_variable([3072, 5])\n",
    "b_fc2 = bias_variable([5])\n",
    "    \n",
    "    \n",
    "y_conv = tf.matmul(h_fc1_drop, W_fc2) + b_fc2\n",
    "cross_entropy = tf.reduce_mean(\n",
    "        tf.nn.softmax_cross_entropy_with_logits(labels=y_, logits=y_conv))\n",
    "train_step = tf.train.AdamOptimizer(0.0003).minimize(cross_entropy)\n",
    "correct_prediction = tf.equal(tf.argmax(y_conv,1), tf.argmax(y_,1))\n",
    "accuracy = tf.reduce_mean(tf.cast(correct_prediction, tf.float32))\n",
    "sess.run(tf.global_variables_initializer())\n",
    "\n",
    "num_batch =0\n",
    "\n",
    "while num_batch<45000:\n",
    "  #batch = mnist.train.next_batch(50)\n",
    "  if num_batch%100 == 0:\n",
    "    train_accuracy = accuracy.eval(feed_dict={\n",
    "        x:all_data[num_batch:num_batch+100,0:3072], y_:all_data[num_batch:num_batch+100,3072:3077],\n",
    "                  keep_prob:1.0})\n",
    "    print(\"step %d, training accuracy %g\"%(num_batch, train_accuracy))\n",
    "  train_step.run(feed_dict={x:all_data[num_batch:num_batch+100,0:3072], y_:all_data[num_batch:num_batch+100,3072:3077], keep_prob: 0.5})\n",
    "  num_batch = num_batch+100\n"
   ]
  },
  {
   "cell_type": "markdown",
   "metadata": {},
   "source": [
    "Training Accuracy Comes Out to be Above 50% . According to Udacity Machine Learning Engineer Nanodegree , the accuracy should be 50-80% ."
   ]
  },
  {
   "cell_type": "code",
   "execution_count": null,
   "metadata": {
    "collapsed": true
   },
   "outputs": [],
   "source": []
  }
 ],
 "metadata": {
  "kernelspec": {
   "display_name": "Python 2",
   "language": "python",
   "name": "python2"
  },
  "language_info": {
   "codemirror_mode": {
    "name": "ipython",
    "version": 2
   },
   "file_extension": ".py",
   "mimetype": "text/x-python",
   "name": "python",
   "nbconvert_exporter": "python",
   "pygments_lexer": "ipython2",
   "version": "2.7.13"
  }
 },
 "nbformat": 4,
 "nbformat_minor": 2
}
