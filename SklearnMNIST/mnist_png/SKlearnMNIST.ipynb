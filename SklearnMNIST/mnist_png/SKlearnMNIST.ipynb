{
 "cells": [
  {
   "cell_type": "markdown",
   "metadata": {},
   "source": [
    "# Testing Different Classifiers on MNIST Handwritten Digits Image Set"
   ]
  },
  {
   "cell_type": "markdown",
   "metadata": {},
   "source": [
    "Importing Libraries\n"
   ]
  },
  {
   "cell_type": "code",
   "execution_count": 5,
   "metadata": {
    "collapsed": true
   },
   "outputs": [],
   "source": [
    "from os import listdir\n",
    "from os.path import isfile,join\n",
    "import numpy as np\n",
    "import cv2\n",
    "from skimage.feature import hog as HOG\n",
    "from sklearn.linear_model import LogisticRegression \n",
    "from sklearn.neighbors import KNeighborsClassifier\n",
    "from sklearn.grid_search import GridSearchCV\n",
    "from sklearn.neural_network import MLPClassifier\n",
    "from sklearn.svm import SVC,NuSVC\n",
    "from sklearn.tree import DecisionTreeClassifier\n",
    "from sklearn.ensemble import RandomForestClassifier\n",
    "from MLClassifier import *"
   ]
  },
  {
   "cell_type": "markdown",
   "metadata": {},
   "source": [
    "Function for Reading Images and Extracting HOG Features"
   ]
  },
  {
   "cell_type": "code",
   "execution_count": 6,
   "metadata": {
    "collapsed": true
   },
   "outputs": [],
   "source": [
    "def ReadImages(ListName,FolderName,Label):\n",
    "    global NumberList\n",
    "    global responseData\n",
    "    global trainData\n",
    "    global hog\n",
    "    global cv2\n",
    "    global imutils\n",
    "    global winSize\n",
    "    ListName= ListName[0:100]\n",
    "    for image in ListName:\n",
    "        img = cv2.imread(join(FolderName,image))\n",
    "        NumberList.append(img)    \n",
    "        feature = HOG(cv2.cvtColor(img,cv2.COLOR_RGB2GRAY))\n",
    "        trainData.append(feature.T)\n",
    "        responseData.append(Label)"
   ]
  },
  {
   "cell_type": "markdown",
   "metadata": {},
   "source": [
    "Data Preparation"
   ]
  },
  {
   "cell_type": "code",
   "execution_count": 7,
   "metadata": {
    "collapsed": true
   },
   "outputs": [
    {
     "name": "stderr",
     "output_type": "stream",
     "text": [
      "/home/sezan92/anaconda2/lib/python2.7/site-packages/skimage/feature/_hog.py:119: skimage_deprecation: Default value of `block_norm`==`L1` is deprecated and will be changed to `L2-Hys` in v0.15\n",
      "  'be changed to `L2-Hys` in v0.15', skimage_deprecation)\n"
     ]
    }
   ],
   "source": [
    "Zero = '/home/sezan92/SklearnMNIST/mnist_png/training/0'\n",
    "One= '/home/sezan92/SklearnMNIST/mnist_png/training/1'\n",
    "Two = '/home/sezan92/SklearnMNIST/mnist_png/training/2'\n",
    "Three = '/home/sezan92/SklearnMNIST/mnist_png/training/3'\n",
    "Four = '/home/sezan92/SklearnMNIST/mnist_png/training/4'\n",
    "Five = '/home/sezan92/SklearnMNIST/mnist_png/training/5'\n",
    "Six = '/home/sezan92/SklearnMNIST/mnist_png/training/6'\n",
    "Seven = '/home/sezan92/SklearnMNIST/mnist_png/training/7'\n",
    "Eight = '/home/sezan92/SklearnMNIST/mnist_png/training/8'\n",
    "Nine = '/home/sezan92/SklearnMNIST/mnist_png/training/9'\n",
    "\n",
    "trainData = []\n",
    "responseData = []\n",
    "NumberList = []\n",
    "ZeroImages = [ f for f in listdir(Zero) if isfile(join(Zero,f)) ]\n",
    "OneImages = [ f for f in listdir(One) if isfile(join(One,f)) ]\n",
    "TwoImages = [ f for f in listdir(Two) if isfile(join(Two,f)) ]\n",
    "ThreeImages = [ f for f in listdir(Three) if isfile(join(Three,f)) ]\n",
    "FourImages = [ f for f in listdir(Four) if isfile(join(Four,f)) ]\n",
    "FiveImages = [ f for f in listdir(Five) if isfile(join(Five,f)) ]\n",
    "SixImages = [ f for f in listdir(Six) if isfile(join(Six,f)) ]\n",
    "SevenImages = [ f for f in listdir(Seven) if isfile(join(Seven,f)) ]\n",
    "EightImages = [ f for f in listdir(Eight) if isfile(join(Eight,f)) ]\n",
    "NineImages = [ f for f in listdir(Nine) if isfile(join(Nine,f)) ]\n",
    "\n",
    "ReadImages(ZeroImages,Zero,0)\n",
    "ReadImages(OneImages,One,1)\n",
    "ReadImages(TwoImages,Two,2)\n",
    "ReadImages(ThreeImages,Three,3)\n",
    "ReadImages(FourImages,Four,4)\n",
    "ReadImages(FiveImages,Five,5)\n",
    "ReadImages(SixImages,Six,6)\n",
    "ReadImages(SevenImages,Seven,7)\n",
    "ReadImages(EightImages,Eight,8)\n",
    "ReadImages(NineImages,Nine,9)\n",
    "\n",
    "X = np.float32(trainData)\n",
    "y= np.float32(responseData)"
   ]
  },
  {
   "cell_type": "markdown",
   "metadata": {},
   "source": [
    "Classifier"
   ]
  },
  {
   "cell_type": "code",
   "execution_count": 8,
   "metadata": {
    "collapsed": false
   },
   "outputs": [
    {
     "name": "stdout",
     "output_type": "stream",
     "text": [
      "Knn Training...\n",
      "Knn Score 0.883\n",
      "Knn  best Params {'n_neighbors': 7, 'weights': 'distance', 'algorithm': 'auto'}\n",
      "Logistic Regression Training...\n",
      "LogReg Score 0.786\n",
      "LogReg  best Params {'penalty': 'l2', 'tol': 0.0001}\n",
      "Neural Network Training....\n"
     ]
    },
    {
     "name": "stderr",
     "output_type": "stream",
     "text": [
      "/home/sezan92/anaconda2/lib/python2.7/site-packages/sklearn/neural_network/multilayer_perceptron.py:563: ConvergenceWarning: Stochastic Optimizer: Maximum iterations reached and the optimization hasn't converged yet.\n",
      "  % (), ConvergenceWarning)\n"
     ]
    },
    {
     "name": "stdout",
     "output_type": "stream",
     "text": [
      "NN Score 0.908\n",
      "NN  best Params {'activation': 'identity', 'learning_rate': 'constant', 'solver': 'adam'}\n",
      "SVM training. Caution It is slowest to train....\n",
      "SVM with NuSVC Score 0.929\n",
      "SVM with NuSVC best Params{'kernel': 'linear', 'nu': 0.10000000000000001}\n",
      "DTree Training ...\n",
      "Decision Tree Score 0.673\n",
      "Decision Tree params {'splitter': 'best', 'criterion': 'entropy'}\n",
      "Randomforest Training ....\n",
      "RTrees Score 0.891\n",
      "RTrees Best Params {'max_features': 'auto', 'n_estimators': 28, 'criterion': 'gini'}\n"
     ]
    },
    {
     "data": {
      "text/plain": [
       "GridSearchCV(cv=10, error_score='raise',\n",
       "       estimator=NuSVC(cache_size=200, class_weight=None, coef0=0.0,\n",
       "   decision_function_shape=None, degree=3, gamma='auto', kernel='rbf',\n",
       "   max_iter=-1, nu=0.5, probability=False, random_state=None,\n",
       "   shrinking=True, tol=0.001, verbose=False),\n",
       "       fit_params={}, iid=True, n_jobs=1,\n",
       "       param_grid={'kernel': ['linear', 'sigmoid', 'rbf'], 'nu': array([ 0.1,  0.2,  0.3,  0.4,  0.5,  0.6,  0.7,  0.8,  0.9])},\n",
       "       pre_dispatch='2*n_jobs', refit=True, scoring='accuracy', verbose=0)"
      ]
     },
     "execution_count": 8,
     "metadata": {},
     "output_type": "execute_result"
    }
   ],
   "source": [
    "ClassifierSelect(X,y,num_labels=10,SVMFlag=True)    "
   ]
  },
  {
   "cell_type": "markdown",
   "metadata": {},
   "source": [
    "SVM is winner in this case. With 92.9% Accuracy! I know using Deep Learning we can achieve 99% accuracy. But The objective of this project is to choose best classifier for a given Dataset, not Predicting Accurately . "
   ]
  },
  {
   "cell_type": "code",
   "execution_count": null,
   "metadata": {
    "collapsed": true
   },
   "outputs": [],
   "source": []
  }
 ],
 "metadata": {
  "kernelspec": {
   "display_name": "Python 2",
   "language": "python",
   "name": "python2"
  },
  "language_info": {
   "codemirror_mode": {
    "name": "ipython",
    "version": 2
   },
   "file_extension": ".py",
   "mimetype": "text/x-python",
   "name": "python",
   "nbconvert_exporter": "python",
   "pygments_lexer": "ipython2",
   "version": "2.7.13"
  }
 },
 "nbformat": 4,
 "nbformat_minor": 2
}
