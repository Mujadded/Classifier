{
 "cells": [
  {
   "cell_type": "markdown",
   "metadata": {},
   "source": [
    "# In this Project Different Classifiers with their Hyper Parameters are tested on 5 Classes of Images from Caltech 101 Dataset"
   ]
  },
  {
   "cell_type": "markdown",
   "metadata": {},
   "source": [
    "Importing Libraries\n"
   ]
  },
  {
   "cell_type": "code",
   "execution_count": 1,
   "metadata": {
    "collapsed": true
   },
   "outputs": [
    {
     "name": "stderr",
     "output_type": "stream",
     "text": [
      "/home/sezan92/anaconda2/lib/python2.7/site-packages/sklearn/cross_validation.py:44: DeprecationWarning: This module was deprecated in version 0.18 in favor of the model_selection module into which all the refactored classes and functions are moved. Also note that the interface of the new CV iterators are different from that of this module. This module will be removed in 0.20.\n",
      "  \"This module will be removed in 0.20.\", DeprecationWarning)\n",
      "/home/sezan92/anaconda2/lib/python2.7/site-packages/sklearn/grid_search.py:43: DeprecationWarning: This module was deprecated in version 0.18 in favor of the model_selection module into which all the refactored classes and functions are moved. This module will be removed in 0.20.\n",
      "  DeprecationWarning)\n"
     ]
    }
   ],
   "source": [
    "\"\"\"\n",
    "Created on Thu Dec 01 19:52:18 2016\n",
    "\n",
    "@author: sezan1992\n",
    "\"\"\"\n",
    "from os import listdir\n",
    "from os.path import isfile,join\n",
    "import numpy as np\n",
    "import cv2\n",
    "from skimage.feature import hog as HOG\n",
    "\n",
    "#Importing Models\n",
    "from sklearn.linear_model import LogisticRegression \n",
    "from sklearn.neighbors import KNeighborsClassifier\n",
    "from sklearn.grid_search import GridSearchCV\n",
    "from sklearn.neural_network import MLPClassifier\n",
    "from sklearn.svm import SVC,NuSVC\n",
    "from sklearn.tree import DecisionTreeClassifier\n",
    "from sklearn.ensemble import RandomForestClassifier\n",
    "from MLClassifier import *"
   ]
  },
  {
   "cell_type": "markdown",
   "metadata": {},
   "source": [
    "Function For Reading Images and Extracting HOG Features"
   ]
  },
  {
   "cell_type": "code",
   "execution_count": 2,
   "metadata": {
    "collapsed": true
   },
   "outputs": [],
   "source": [
    "\n",
    "def ReadImages(ListName,FolderName,Label):\n",
    "    global NumberList\n",
    "    global responseData\n",
    "    global trainData\n",
    "    global hog\n",
    "    global cv2\n",
    "    global imutils\n",
    "    global winSize\n",
    "    for image in ListName:\n",
    "        img = cv2.imread(join(FolderName,image))\n",
    "        img = cv2.resize(img,(50,50))\n",
    "        NumberList.append(img)    \n",
    "        feature = HOG(cv2.cvtColor(img,cv2.COLOR_RGB2GRAY))\n",
    "        trainData.append(feature.T)\n",
    "        responseData.append(Label)\n",
    "        "
   ]
  },
  {
   "cell_type": "markdown",
   "metadata": {},
   "source": [
    "Data Preparation\n"
   ]
  },
  {
   "cell_type": "code",
   "execution_count": 5,
   "metadata": {
    "collapsed": true
   },
   "outputs": [],
   "source": [
    "Ant = '/home/sezan92/Caltech101/ant'\n",
    "Beaver = '/home/sezan92/Caltech101/beaver'\n",
    "Butterfly = '/home/sezan92/Caltech101/butterfly'\n",
    "Dalmatian = '/home/sezan92/Caltech101/dalmatian'\n",
    "Dolphin = '/home/sezan92/Caltech101/dolphin'\n",
    "Test ='/home/sezan92/Caltech101/Test'\n",
    "trainData = []\n",
    "responseData = []\n",
    "NumberList = []\n",
    "\n",
    "AntImages = [ f for f in listdir(Ant) if isfile(join(Ant,f)) ]\n",
    "BeaverImages = [ f for f in listdir(Beaver) if isfile(join(Beaver,f)) ]\n",
    "ButterflyImages = [ f for f in listdir(Butterfly) if isfile(join(Butterfly,f)) ]\n",
    "DolphinImages = [ f for f in listdir(Dolphin) if isfile(join(Dolphin,f)) ]\n",
    "DalmatianImages = [ f for f in listdir(Dalmatian) if isfile(join(Dalmatian,f)) ]\n",
    "TestImages = [ f for f in listdir(Test) if isfile(join(Test,f)) ]\n",
    "\n",
    "ReadImages(AntImages,Ant,1)\n",
    "ReadImages(BeaverImages,Beaver,2)\n",
    "ReadImages(ButterflyImages,Butterfly,3)\n",
    "ReadImages(DolphinImages,Dolphin,4)\n",
    "ReadImages(DalmatianImages,Dalmatian,5)\n",
    "\n",
    "X = np.float32(trainData)\n",
    "y= np.float32(responseData)"
   ]
  },
  {
   "cell_type": "code",
   "execution_count": null,
   "metadata": {
    "collapsed": false
   },
   "outputs": [
    {
     "name": "stdout",
     "output_type": "stream",
     "text": [
      "Knn Training...\n"
     ]
    }
   ],
   "source": [
    "ClassifierSelect(X,y,num_labels=5,SVMFlag=True)    \n"
   ]
  },
  {
   "cell_type": "code",
   "execution_count": null,
   "metadata": {
    "collapsed": true
   },
   "outputs": [],
   "source": []
  }
 ],
 "metadata": {
  "kernelspec": {
   "display_name": "Python 2",
   "language": "python",
   "name": "python2"
  },
  "language_info": {
   "codemirror_mode": {
    "name": "ipython",
    "version": 2
   },
   "file_extension": ".py",
   "mimetype": "text/x-python",
   "name": "python",
   "nbconvert_exporter": "python",
   "pygments_lexer": "ipython2",
   "version": "2.7.13"
  }
 },
 "nbformat": 4,
 "nbformat_minor": 2
}
